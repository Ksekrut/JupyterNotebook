{
 "cells": [
  {
   "cell_type": "code",
   "execution_count": 3,
   "id": "c2ca9461-a54c-4c0c-82e3-9f7529f624e5",
   "metadata": {},
   "outputs": [
    {
     "data": {
      "text/plain": [
       "1"
      ]
     },
     "execution_count": 3,
     "metadata": {},
     "output_type": "execute_result"
    }
   ],
   "source": [
    "ord(\"K\") % 3 + 1"
   ]
  },
  {
   "cell_type": "code",
   "execution_count": 19,
   "id": "bec8d54a-8977-404d-af96-664b722f1276",
   "metadata": {},
   "outputs": [
    {
     "name": "stdout",
     "output_type": "stream",
     "text": [
      "[ 10.  27.  27.  29.  29.  30.  30.  33.  39.  44.  46.  48.  49.  49.\n",
      "  57.  58.  74.  77.  81.  84.  86.  93.  95.  96.  97.  99. 101. 108.\n",
      " 115. 117. 121. 123. 127. 131. 135. 143. 143. 143. 147. 150. 150. 150.\n",
      " 150. 151. 152. 154. 157. 158. 160. 163. 163. 165. 167. 169. 171. 172.\n",
      " 176. 177. 179. 181. 184. 185. 187. 189. 190. 192. 194. 194. 194. 196.\n",
      " 199. 199. 199. 199. 199. 199. 199. 200. 200. 200. 200. 201. 202. 203.\n",
      " 204. 204. 204. 204. 205. 206. 206. 206. 207. 207. 207. 208. 208. 210.\n",
      " 210. 210. 210. 211. 212. 212. 212. 212. 212. 212. 213. 213. 213. 213.\n",
      " 215. 216. 216. 216. 216. 216. 216. 216. 217. 217. 217. 217. 217. 217.\n",
      " 217. 217. 217. 217. 217. 217. 217. 217. 217. 217. 217. 217. 217. 219.\n",
      " 220. 220. 220. 220. 220. 221. 221. 221. 221. 221. 222. 222. 222. 222.\n",
      " 222. 222. 223. 223. 223. 223. 223. 223. 223. 223. 223. 223. 232. 232.\n",
      " 233. 233. 233. 233. 233. 233. 234. 234. 234. 234. 234. 234. 234. 234.\n",
      " 234. 234. 234. 234. 234. 234. 234. 234. 235. 236. 236. 236. 237. 239.\n",
      " 239. 239. 242. 243. 244. 246. 250. 250. 251. 251. 251. 252. 253. 253.\n",
      " 254. 255. 259. 260. 261. 262. 262. 264. 264. 264. 265. 266. 266. 266.\n",
      " 266. 266. 266. 267. 268. 268. 268. 268. 268. 268. 268. 268. 269. 269.\n",
      " 269. 270. 270. 270. 271. 271. 271. 272. 273. 274. 275. 276. 277. 277.\n",
      " 277. 277. 277. 277. 278. 278. 278. 278. 278. 278. 278. 278. 278. 278.\n",
      " 278. 278. 278. 278. 278. 278. 278. 278. 278. 278. 278. 280. 280. 280.\n",
      " 280. 280. 281. 281. 281. 281. 281. 281. 281. 281. 281. 281. 281. 281.\n",
      " 281. 281. 281. 281. 281. 282. 283. 283. 283. 283. 283. 283. 283. 283.\n",
      " 283. 283. 283. 283. 283. 283. 284. 285. 285. 285. 285. 285. 285. 285.\n",
      " 286. 286. 286. 286. 286. 287. 287. 287. 287. 287. 287. 289. 290. 292.\n",
      " 292. 293. 293. 293. 293. 293. 293. 294. 294. 294. 294. 294. 295. 295.\n",
      " 295. 295. 296. 296. 298. 298. 298. 298. 298. 298. 299. 299. 299. 299.\n",
      " 299. 299. 299. 300. 300. 300. 300. 301. 302. 302. 302. 303. 303. 303.\n",
      " 304. 304. 304. 304. 304. 304. 305. 305. 305. 305. 305. 305. 305. 305.\n",
      " 305. 305. 305. 305. 305. 306. 306. 306. 306. 306. 306. 306. 306. 306.\n",
      " 306. 307. 307. 307. 307. 307. 307. 307. 307. 308. 308. 308. 308. 308.\n",
      " 308. 308. 308. 308. 308. 308. 308. 308. 308. 308. 308. 308. 308. 308.\n",
      " 308. 308. 308. 308. 308. 308. 308. 308. 308. 308. 308. 308. 308. 308.\n",
      " 308. 308. 308. 309. 309. 309. 309. 310. 310. 313. 313. 313. 313. 313.\n",
      " 313. 313. 313. 313. 313. 314. 314. 314. 314. 314. 314. 314. 314. 314.\n",
      " 314. 314. 314. 314. 314. 314. 314. 314. 314. 314. 314. 314. 314. 315.\n",
      " 315. 315. 315. 315. 315. 315. 315. 315. 315. 315. 315. 315. 315. 315.\n",
      " 315. 315. 315. 315. 315. 315. 315. 315. 315. 315. 315. 315. 315. 315.\n",
      " 315. 315. 315. 315. 315. 315. 315. 315. 315. 315. 315. 315. 315. 315.\n",
      " 315. 315. 315. 315. 315. 315. 315. 315. 315. 315. 315. 315. 315. 315.\n",
      " 315. 315. 315. 315. 315. 315. 315. 315. 315. 315. 315. 315. 315. 315.\n",
      " 315. 315. 315. 315. 315. 315. 315. 315. 315. 315. 315. 315. 315. 315.\n",
      " 315. 315. 315. 315. 315. 315. 315. 315. 315. 316. 316. 315. 315. 315.\n",
      " 315. 315. 315. 315. 315. 316. 316. 316. 317. 317. 318. 318. 319. 320.\n",
      " 320. 320. 320. 320. 320. 320. 320. 320. 320. 320. 321. 321. 321. 322.\n",
      " 322. 322. 322. 322. 322. 322. 322. 322. 322. 322. 322. 322. 323. 323.\n",
      " 323. 323. 323. 323. 323. 323. 323. 323. 323. 323. 323. 323. 323. 323.\n",
      " 323. 323. 323. 323. 323. 324. 324. 324. 324. 324. 324. 324. 324. 324.\n",
      " 324. 324. 324. 324. 324. 324. 324. 324. 327. 327. 329. 329. 329. 329.\n",
      " 329. 329. 329. 329. 329. 329. 329. 329. 329. 329. 329. 329. 329. 329.\n",
      " 329. 329. 329. 329. 331. 331. 331. 331. 331. 331. 331. 331. 331. 331.\n",
      " 331. 331. 331. 331. 332. 332. 332. 332. 332. 332. 332. 332. 332. 332.\n",
      " 332. 332. 332. 332. 332. 332. 332. 332. 332. 335. 336. 338. 338. 339.\n",
      " 339. 340. 340. 340. 340. 342. 342. 345. 346. 347. 347. 347. 347. 347.\n",
      " 347. 347. 347. 347. 347. 347. 347. 347. 347. 347. 347. 347. 347. 347.\n",
      " 347. 347. 347. 347. 347. 347. 347. 347. 347. 347. 347. 347. 347. 347.\n",
      " 347. 347. 347. 347. 347. 347. 347. 347. 347. 347. 347. 347. 347. 347.\n",
      " 347. 348. 348. 348. 348. 348. 348. 348. 348. 348. 348. 348. 348. 348.\n",
      " 348. 348. 349. 349. 349. 349. 349. 349. 349. 350. 350. 351. 351. 351.\n",
      " 353. 354. 354. 354. 354. 354. 355. 356. 356. 357. 357. 357. 357. 357.\n",
      " 357. 357. 357. 357. 357. 357. 357. 357. 357. 357. 358. 359. 359. 359.\n",
      " 359. 359. 359. 359. 359. 359. 359. 359. 359. 359. 359. 359. 359. 359.\n",
      " 360. 360. 360. 360. 360. 360. 360. 360. 360. 360. 361. 361. 361. 361.\n",
      " 361. 361. 361. 361. 361. 361. 361. 361. 362. 362. 362. 362. 363. 363.\n",
      " 363. 363. 363. 363. 363. 363. 363. 363. 363. 363. 365. 365. 365. 366.\n",
      " 366. 366. 366. 366. 366. 366. 367. 367. 367. 367. 367. 367. 367. 367.\n",
      " 367. 367. 367. 367. 367. 368. 368. 368. 368. 368. 368. 368. 368. 368.\n",
      " 368. 368. 368. 368. 368. 368. 369. 369. 369. 369. 369. 369. 369. 369.\n",
      " 369. 369. 369. 369. 369. 369. 369. 369. 369. 369. 369. 369. 369. 368.\n",
      " 368. 368. 368. 368. 368. 369. 369. 369. 369. 369.]\n"
     ]
    }
   ],
   "source": [
    "import csv\n",
    "import numpy as np\n",
    "\n",
    "def get_column_data(filename, column_name):\n",
    "    with open(filename, newline='', encoding='utf-8') as csvfile:\n",
    "        reader = csv.DictReader(csvfile)\n",
    "        column_data = [row[column_name] for row in reader]\n",
    "    return np.array(column_data, dtype=float)\n",
    "\n",
    "filename = \"c:/Users/Xena/LabsPython/russia_losses_equipment-checkpoint.csv\"\n",
    "aircraft_losses = get_column_data(filename, \"aircraft\")\n",
    "aircraft_losses = aircraft_losses[::-1]\n",
    "print(aircraft_losses)\n"
   ]
  },
  {
   "cell_type": "code",
   "execution_count": 20,
   "id": "fc67f16d-af75-4719-9dfd-4f182fbabd08",
   "metadata": {},
   "outputs": [
    {
     "name": "stdout",
     "output_type": "stream",
     "text": [
      "[17.  0.  2.  0.  1.  0.  3.  6.  5.  2.  2.  1.  0.  8.  1. 16.  3.  4.\n",
      "  3.  2.  7.  2.  1.  1.  2.  2.  7.  7.  2.  4.  2.  4.  4.  4.  8.  0.\n",
      "  0.  4.  3.  0.  0.  0.  1.  1.  2.  3.  1.  2.  3.  0.  2.  2.  2.  2.\n",
      "  1.  4.  1.  2.  2.  3.  1.  2.  2.  1.  2.  2.  0.  0.  2.  3.  0.  0.\n",
      "  0.  0.  0.  0.  1.  0.  0.  0.  1.  1.  1.  1.  0.  0.  0.  1.  1.  0.\n",
      "  0.  1.  0.  0.  1.  0.  2.  0.  0.  0.  1.  1.  0.  0.  0.  0.  0.  1.\n",
      "  0.  0.  0.  2.  1.  0.  0.  0.  0.  0.  0.  1.  0.  0.  0.  0.  0.  0.\n",
      "  0.  0.  0.  0.  0.  0.  0.  0.  0.  0.  0.  0.  2.  1.  0.  0.  0.  0.\n",
      "  1.  0.  0.  0.  0.  1.  0.  0.  0.  0.  0.  1.  0.  0.  0.  0.  0.  0.\n",
      "  0.  0.  0.  9.  0.  1.  0.  0.  0.  0.  0.  1.  0.  0.  0.  0.  0.  0.\n",
      "  0.  0.  0.  0.  0.  0.  0.  0.  0.  1.  1.  0.  0.  1.  2.  0.  0.  3.\n",
      "  1.  1.  2.  4.  0.  1.  0.  0.  1.  1.  0.  1.  1.  4.  1.  1.  1.  0.\n",
      "  2.  0.  0.  1.  1.  0.  0.  0.  0.  0.  1.  1.  0.  0.  0.  0.  0.  0.\n",
      "  0.  1.  0.  0.  1.  0.  0.  1.  0.  0.  1.  1.  1.  1.  1.  1.  0.  0.\n",
      "  0.  0.  0.  1.  0.  0.  0.  0.  0.  0.  0.  0.  0.  0.  0.  0.  0.  0.\n",
      "  0.  0.  0.  0.  0.  0.  2.  0.  0.  0.  0.  1.  0.  0.  0.  0.  0.  0.\n",
      "  0.  0.  0.  0.  0.  0.  0.  0.  0.  0.  1.  1.  0.  0.  0.  0.  0.  0.\n",
      "  0.  0.  0.  0.  0.  0.  0.  1.  1.  0.  0.  0.  0.  0.  0.  1.  0.  0.\n",
      "  0.  0.  1.  0.  0.  0.  0.  0.  2.  1.  2.  0.  1.  0.  0.  0.  0.  0.\n",
      "  1.  0.  0.  0.  0.  1.  0.  0.  0.  1.  0.  2.  0.  0.  0.  0.  0.  1.\n",
      "  0.  0.  0.  0.  0.  0.  1.  0.  0.  0.  1.  1.  0.  0.  1.  0.  0.  1.\n",
      "  0.  0.  0.  0.  0.  1.  0.  0.  0.  0.  0.  0.  0.  0.  0.  0.  0.  0.\n",
      "  1.  0.  0.  0.  0.  0.  0.  0.  0.  0.  1.  0.  0.  0.  0.  0.  0.  0.\n",
      "  1.  0.  0.  0.  0.  0.  0.  0.  0.  0.  0.  0.  0.  0.  0.  0.  0.  0.\n",
      "  0.  0.  0.  0.  0.  0.  0.  0.  0.  0.  0.  0.  0.  0.  0.  0.  0.  0.\n",
      "  1.  0.  0.  0.  1.  0.  3.  0.  0.  0.  0.  0.  0.  0.  0.  0.  1.  0.\n",
      "  0.  0.  0.  0.  0.  0.  0.  0.  0.  0.  0.  0.  0.  0.  0.  0.  0.  0.\n",
      "  0.  0.  1.  0.  0.  0.  0.  0.  0.  0.  0.  0.  0.  0.  0.  0.  0.  0.\n",
      "  0.  0.  0.  0.  0.  0.  0.  0.  0.  0.  0.  0.  0.  0.  0.  0.  0.  0.\n",
      "  0.  0.  0.  0.  0.  0.  0.  0.  0.  0.  0.  0.  0.  0.  0.  0.  0.  0.\n",
      "  0.  0.  0.  0.  0.  0.  0.  0.  0.  0.  0.  0.  0.  0.  0.  0.  0.  0.\n",
      "  0.  0.  0.  0.  0.  0.  0.  0.  0.  0.  0.  0.  0.  0.  0.  0.  0.  0.\n",
      "  0.  0.  0.  0.  0.  0.  1.  0. -1.  0.  0.  0.  0.  0.  0.  0.  1.  0.\n",
      "  0.  1.  0.  1.  0.  1.  1.  0.  0.  0.  0.  0.  0.  0.  0.  0.  0.  1.\n",
      "  0.  0.  1.  0.  0.  0.  0.  0.  0.  0.  0.  0.  0.  0.  0.  1.  0.  0.\n",
      "  0.  0.  0.  0.  0.  0.  0.  0.  0.  0.  0.  0.  0.  0.  0.  0.  0.  0.\n",
      "  1.  0.  0.  0.  0.  0.  0.  0.  0.  0.  0.  0.  0.  0.  0.  0.  0.  3.\n",
      "  0.  2.  0.  0.  0.  0.  0.  0.  0.  0.  0.  0.  0.  0.  0.  0.  0.  0.\n",
      "  0.  0.  0.  0.  0.  2.  0.  0.  0.  0.  0.  0.  0.  0.  0.  0.  0.  0.\n",
      "  0.  1.  0.  0.  0.  0.  0.  0.  0.  0.  0.  0.  0.  0.  0.  0.  0.  0.\n",
      "  0.  0.  3.  1.  2.  0.  1.  0.  1.  0.  0.  0.  2.  0.  3.  1.  1.  0.\n",
      "  0.  0.  0.  0.  0.  0.  0.  0.  0.  0.  0.  0.  0.  0.  0.  0.  0.  0.\n",
      "  0.  0.  0.  0.  0.  0.  0.  0.  0.  0.  0.  0.  0.  0.  0.  0.  0.  0.\n",
      "  0.  0.  0.  0.  0.  0.  0.  0.  0.  0.  1.  0.  0.  0.  0.  0.  0.  0.\n",
      "  0.  0.  0.  0.  0.  0.  0.  1.  0.  0.  0.  0.  0.  0.  1.  0.  1.  0.\n",
      "  0.  2.  1.  0.  0.  0.  0.  1.  1.  0.  1.  0.  0.  0.  0.  0.  0.  0.\n",
      "  0.  0.  0.  0.  0.  0.  0.  1.  1.  0.  0.  0.  0.  0.  0.  0.  0.  0.\n",
      "  0.  0.  0.  0.  0.  0.  0.  1.  0.  0.  0.  0.  0.  0.  0.  0.  0.  1.\n",
      "  0.  0.  0.  0.  0.  0.  0.  0.  0.  0.  0.  1.  0.  0.  0.  1.  0.  0.\n",
      "  0.  0.  0.  0.  0.  0.  0.  0.  0.  2.  0.  0.  1.  0.  0.  0.  0.  0.\n",
      "  0.  1.  0.  0.  0.  0.  0.  0.  0.  0.  0.  0.  0.  0.  1.  0.  0.  0.\n",
      "  0.  0.  0.  0.  0.  0.  0.  0.  0.  0.  0.  1.  0.  0.  0.  0.  0.  0.\n",
      "  0.  0.  0.  0.  0.  0.  0.  0.  0.  0.  0.  0.  0.  0. -1.  0.  0.  0.\n",
      "  0.  0.  1.  0.  0.  0.  0.]\n"
     ]
    }
   ],
   "source": [
    "daily_losses = np.diff(aircraft_losses)\n",
    "print(daily_losses)"
   ]
  },
  {
   "cell_type": "code",
   "execution_count": 21,
   "id": "8191d4f5-a604-4e47-98b3-15ee7c66061a",
   "metadata": {},
   "outputs": [
    {
     "name": "stdout",
     "output_type": "stream",
     "text": [
      "[ 9. 16. 17.]\n"
     ]
    }
   ],
   "source": [
    "largest_losses = np.sort(daily_losses)[-3:]\n",
    "print(largest_losses)"
   ]
  },
  {
   "cell_type": "code",
   "execution_count": 22,
   "id": "0d099024-75b8-4c3f-bb22-9f0ff3bb9d4a",
   "metadata": {},
   "outputs": [
    {
     "name": "stdout",
     "output_type": "stream",
     "text": [
      "Кількість збитих літаків за літо минулого року: 26.0\n"
     ]
    }
   ],
   "source": [
    "start_summer = 100  \n",
    "end_summer = 192 \n",
    "\n",
    "summer_losses = np.sum(daily_losses[start_summer-1:end_summer])\n",
    "\n",
    "print(f\"Кількість збитих літаків за літо минулого року: {summer_losses}\")"
   ]
  },
  {
   "cell_type": "code",
   "execution_count": 7,
   "id": "8d4ab53b-2155-4410-bc7a-08058733515f",
   "metadata": {},
   "outputs": [
    {
     "name": "stdout",
     "output_type": "stream",
     "text": [
      "0.15\n"
     ]
    }
   ],
   "source": [
    "average_last_300_days = np.mean(daily_losses[-300:])\n",
    "print(average_last_300_days)"
   ]
  },
  {
   "cell_type": "code",
   "execution_count": 5,
   "id": "31b5651b-9d2a-447b-8afd-4ecca5f82fe7",
   "metadata": {},
   "outputs": [
    {
     "data": {
      "image/png": "[encoded data removed]",
      "text/plain": [
       "<Figure size 1600x800 with 1 Axes>"
      ]
     },
     "metadata": {},
     "output_type": "display_data"
    }
   ],
   "source": [
    "import matplotlib.pyplot as plt\n",
    "\n",
    "plt.figure(figsize=(16, 8), dpi=100)  \n",
    "\n",
    "plt.plot(aircraft_losses[:365], linestyle='--', color='b', label='Втрати літаків')\n",
    "\n",
    "plt.title(\"Втрати літаків за перший рік війни\", fontsize=16)\n",
    "plt.xlabel(\"Дні\", fontsize=12)\n",
    "plt.ylabel(\"Кількість літаків\", fontsize=12)\n",
    "\n",
    "plt.legend()\n",
    "\n",
    "plt.grid(True, which='both', linestyle='-', linewidth=0.5, color='gray')\n",
    "\n",
    "plt.savefig(\"c:/Users/Xena/LabsPython/aircraft_losses_horizontal.png\")\n",
    "\n",
    "plt.show()\n"
   ]
  },
  {
   "cell_type": "code",
   "execution_count": null,
   "id": "7092a139-71c0-4bb2-8516-93b3c0e9609c",
   "metadata": {},
   "outputs": [],
   "source": []
  }
 ],
 "metadata": {
  "kernelspec": {
   "display_name": "Python 3 (ipykernel)",
   "language": "python",
   "name": "python3"
  },
  "language_info": {
   "codemirror_mode": {
    "name": "ipython",
    "version": 3
   },
   "file_extension": ".py",
   "mimetype": "text/x-python",
   "name": "python",
   "nbconvert_exporter": "python",
   "pygments_lexer": "ipython3",
   "version": "3.8.19"
  }
 },
 "nbformat": 4,
 "nbformat_minor": 5
}
